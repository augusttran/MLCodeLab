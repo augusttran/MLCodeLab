{
 "cells": [
  {
   "cell_type": "markdown",
   "metadata": {
    "ExecuteTime": {
     "end_time": "2023-09-20T04:23:50.643799Z",
     "start_time": "2023-09-20T04:23:50.621376100Z"
    },
    "collapsed": true
   },
   "source": [
    "# Instance-based learning\n",
    "## k-Nearest Neighbor\n",
    "### Mathematical concept"
   ]
  },
  {
   "cell_type": "markdown",
   "metadata": {},
   "source": [
    "Chose a $v$ candidate that this expression \n",
    "$$\\hat{f}({x}_q) \\leftarrow \\operatorname*{argmax}_{v \\in V} \\sum_{i=1}^k \\delta(v,f(x_i))$$\n",
    "\n",
    "satisfies that with each pair of $v, f(x_i)$ returns a value of 1 or 0 $*$; to be summed up from $i = 1$ to $k$; that $v$ maximizes such sum. \n",
    "\n",
    "With\n",
    "$$V = {v_1, v_2, .. v_s}$$ \n",
    "represents a subset of $v$ candidate to calculate the similarity with $f(x_i)$ from."
   ]
  },
  {
   "cell_type": "code",
   "execution_count": null,
   "metadata": {},
   "outputs": [],
   "source": []
  },
  {
   "cell_type": "code",
   "execution_count": null,
   "metadata": {},
   "outputs": [],
   "source": []
  }
 ],
 "metadata": {
  "kernelspec": {
   "display_name": "Python 3 (ipykernel)",
   "language": "python",
   "name": "python3"
  },
  "language_info": {
   "codemirror_mode": {
    "name": "ipython",
    "version": 3
   },
   "file_extension": ".py",
   "mimetype": "text/x-python",
   "name": "python",
   "nbconvert_exporter": "python",
   "pygments_lexer": "ipython3",
   "version": "3.10.9"
  }
 },
 "nbformat": 4,
 "nbformat_minor": 1
}
